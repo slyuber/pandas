{
 "cells": [
  {
   "cell_type": "markdown",
   "metadata": {},
   "source": [
    "## Loading Data into Panadas"
   ]
  },
  {
   "cell_type": "code",
   "execution_count": 2,
   "metadata": {},
   "outputs": [],
   "source": [
    "import pandas as pd"
   ]
  },
  {
   "cell_type": "markdown",
   "metadata": {},
   "source": [
    "#### Load CSV data file into poke_df dataframe"
   ]
  },
  {
   "cell_type": "code",
   "execution_count": 3,
   "metadata": {},
   "outputs": [
    {
     "name": "stdout",
     "output_type": "stream",
     "text": [
      "   #       Name Type 1  Type 2  HP  Attack  Defense  Sp. Atk  Sp. Def  Speed  \\\n",
      "0  1  Bulbasaur  Grass  Poison  45      49       49       65       65     45   \n",
      "1  2    Ivysaur  Grass  Poison  60      62       63       80       80     60   \n",
      "\n",
      "   Generation  Legendary  \n",
      "0           1      False  \n",
      "1           1      False  \n"
     ]
    }
   ],
   "source": [
    "df_csv = pd.read_csv('pokemon_data.csv')\n",
    "\n",
    "print(df_csv.head(2))"
   ]
  },
  {
   "cell_type": "markdown",
   "metadata": {},
   "source": [
    "#### Load Excel data file into poke_df dataframe"
   ]
  },
  {
   "cell_type": "code",
   "execution_count": 3,
   "metadata": {},
   "outputs": [
    {
     "name": "stdout",
     "output_type": "stream",
     "text": [
      "   #       Name Type 1  Type 2  HP  Attack  Defense  Sp. Atk  Sp. Def  Speed  \\\n",
      "0  1  Bulbasaur  Grass  Poison  45      49       49       65       65     45   \n",
      "1  2    Ivysaur  Grass  Poison  60      62       63       80       80     60   \n",
      "\n",
      "   Generation  Legendary  \n",
      "0           1      False  \n",
      "1           1      False  \n"
     ]
    }
   ],
   "source": [
    "df_xlsx = pd.read_excel('pokemon_data.xlsx')\n",
    "\n",
    "print(df_xlsx.head(2))"
   ]
  },
  {
   "cell_type": "code",
   "execution_count": null,
   "metadata": {},
   "outputs": [],
   "source": []
  },
  {
   "cell_type": "code",
   "execution_count": null,
   "metadata": {},
   "outputs": [],
   "source": []
  }
 ],
 "metadata": {
  "kernelspec": {
   "display_name": "Python 3",
   "language": "python",
   "name": "python3"
  },
  "language_info": {
   "codemirror_mode": {
    "name": "ipython",
    "version": 3
   },
   "file_extension": ".py",
   "mimetype": "text/x-python",
   "name": "python",
   "nbconvert_exporter": "python",
   "pygments_lexer": "ipython3",
   "version": "3.8.3"
  }
 },
 "nbformat": 4,
 "nbformat_minor": 4
}
